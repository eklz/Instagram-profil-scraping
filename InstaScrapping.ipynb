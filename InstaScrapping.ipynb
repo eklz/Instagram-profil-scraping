{
  "nbformat": 4,
  "nbformat_minor": 0,
  "metadata": {
    "colab": {
      "name": "Untitled3.ipynb",
      "provenance": [],
      "mount_file_id": "19qsi_JK0rijGmBxRRK5ufbBIMhTIVFTb",
      "authorship_tag": "ABX9TyMxlpP8JdaCfBO3uW0sGnl4",
      "include_colab_link": true
    },
    "kernelspec": {
      "name": "python3",
      "display_name": "Python 3"
    }
  },
  "cells": [
    {
      "cell_type": "markdown",
      "metadata": {
        "id": "view-in-github",
        "colab_type": "text"
      },
      "source": [
        "<a href=\"https://colab.research.google.com/github/eklz/Prediction-de-likes-Instagram/blob/master/InstaScrapping.ipynb\" target=\"_parent\"><img src=\"https://colab.research.google.com/assets/colab-badge.svg\" alt=\"Open In Colab\"/></a>"
      ]
    },
    {
      "cell_type": "code",
      "metadata": {
        "id": "h7EiGOfbBo0h",
        "colab_type": "code",
        "colab": {}
      },
      "source": [
        "!pip install selenium\n",
        "!apt-get update \n",
        "!apt install chromium-chromedriver"
      ],
      "execution_count": 0,
      "outputs": []
    },
    {
      "cell_type": "code",
      "metadata": {
        "id": "qU15hD74XWSI",
        "colab_type": "code",
        "outputId": "6f23a6ea-2585-4492-f0ef-4c89a9196ce2",
        "colab": {
          "base_uri": "https://localhost:8080/",
          "height": 122
        }
      },
      "source": [
        "from google.colab import drive\n",
        "\n",
        "drive.mount('/content/gdrive')\n",
        "root_path = 'gdrive/My Drive/InstaScrap/'"
      ],
      "execution_count": 0,
      "outputs": [
        {
          "output_type": "stream",
          "text": [
            "Go to this URL in a browser: https://accounts.google.com/o/oauth2/auth?client_id=947318989803-6bn6qk8qdgf4n4g3pfee6491hc0brc4i.apps.googleusercontent.com&redirect_uri=urn%3aietf%3awg%3aoauth%3a2.0%3aoob&response_type=code&scope=email%20https%3a%2f%2fwww.googleapis.com%2fauth%2fdocs.test%20https%3a%2f%2fwww.googleapis.com%2fauth%2fdrive%20https%3a%2f%2fwww.googleapis.com%2fauth%2fdrive.photos.readonly%20https%3a%2f%2fwww.googleapis.com%2fauth%2fpeopleapi.readonly\n",
            "\n",
            "Enter your authorization code:\n",
            "··········\n",
            "Mounted at /content/gdrive\n"
          ],
          "name": "stdout"
        }
      ]
    },
    {
      "cell_type": "code",
      "metadata": {
        "id": "7cvKw_uCBppw",
        "colab_type": "code",
        "colab": {}
      },
      "source": [
        "from selenium import webdriver\n",
        "import datetime as dt\n",
        "from bs4 import BeautifulSoup as bs\n",
        "import json\n",
        "from pandas.io.json import json_normalize\n",
        "import pandas as pd, numpy as np"
      ],
      "execution_count": 0,
      "outputs": []
    },
    {
      "cell_type": "code",
      "metadata": {
        "id": "WKxozxEZKR-Y",
        "colab_type": "code",
        "colab": {}
      },
      "source": [
        "class User():\n",
        "\n",
        "  def __init__(username):\n",
        "\n",
        "    self.username=username\n",
        "    self.URL='http://www.instagram.com/'+username+'/?hl=fr'\n",
        "    self.data=loadData()\n",
        "    self.nbPubli= self.data['edge_owner_to_timeline_media']['count']\n",
        "    self.followed_by=self.data['edge_followed_by']['count']\n",
        "    self.follow=self.data['edge_follow']['count']\n",
        "    self.business=self.data['business_category_name']\n",
        "\n",
        "  def loadData(self):\n",
        "\n",
        "    chrome_options = webdriver.ChromeOptions()\n",
        "    chrome_options.add_argument('--headless')\n",
        "    chrome_options.add_argument('--no-sandbox')\n",
        "    chrome_options.add_argument('--disable-dev-shm-usage')\n",
        "\n",
        "    browser = webdriver.Chrome('chromedriver',options=chrome_options)\n",
        "    browser.get(self.URL)\n",
        "    source = browser.page_source\n",
        "    browser.quit()\n",
        "\n",
        "    data = bs(source, 'html.parser')\n",
        "    body = data.find('body')\n",
        "    script = body.find('script', text=lambda t: t.startswith('window._sharedData'))\n",
        "    page_json = script.text.split(' = ', 1)[1].rstrip(';')\n",
        "    data = json.loads(page_json)\n",
        "    data = data['entry_data']['ProfilePage'][0]['graphql']['user']\n",
        "    return data\n",
        "\n",
        "  def loadPictures(self):\n",
        "    i=0\n",
        "    for publi in data['entry_data']['ProfilePage'][0]['graphql']['user']['edge_owner_to_timeline_media']['edges']:\n",
        "      publi=publi['node']\n",
        "\n",
        "      if publi['__typename'] == 'GraphImage':\n",
        "        i+=1\n",
        "\n",
        "        link='https://www.instagram.com'+'/p/'+publi['shortcode']+'/'\n",
        "        analyse=publi['accessibility_caption']\n",
        "        comments=publi['edge_media_to_comment']['count']\n",
        "        likes=publi['edge_liked_by']['count']\n",
        "        location_id=publi['location']['id']\n",
        "        location_name=publi['location']['name']\n",
        "        timestamp=publi['taken_at_timestamp']\n",
        "        time=dt.datetime.fromtimestamp(timestamp).strftime('%Y-%m-%d %H:%M:%S')\n",
        "\n",
        "\n"
      ],
      "execution_count": 0,
      "outputs": []
    }
  ]
}